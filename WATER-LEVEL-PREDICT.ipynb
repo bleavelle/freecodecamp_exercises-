{
 "cells": [
  {
   "cell_type": "code",
   "execution_count": 1,
   "id": "41c20b13",
   "metadata": {},
   "outputs": [],
   "source": [
    "import pandas as pd\n",
    "import numpy as np\n",
    "import seaborn as sns\n",
    "import matplotlib.pyplot as plt\n",
    "import matplotlib\n",
    "import os\n",
    "from scipy import stats\n",
    "from scipy.stats import linregress"
   ]
  },
  {
   "cell_type": "code",
   "execution_count": 2,
   "id": "4d53af56",
   "metadata": {},
   "outputs": [],
   "source": [
    "path = r'/Users/bryanleavelle/DATA PROJECTS/water-level-predict/'"
   ]
  },
  {
   "cell_type": "code",
   "execution_count": 3,
   "id": "8edaa651",
   "metadata": {},
   "outputs": [],
   "source": [
    "df = pd.read_csv(os.path.join(path, 'epa-sea-level.csv'))"
   ]
  },
  {
   "cell_type": "code",
   "execution_count": 4,
   "id": "4962cf76",
   "metadata": {
    "scrolled": true
   },
   "outputs": [
    {
     "data": {
      "text/html": [
       "<div>\n",
       "<style scoped>\n",
       "    .dataframe tbody tr th:only-of-type {\n",
       "        vertical-align: middle;\n",
       "    }\n",
       "\n",
       "    .dataframe tbody tr th {\n",
       "        vertical-align: top;\n",
       "    }\n",
       "\n",
       "    .dataframe thead th {\n",
       "        text-align: right;\n",
       "    }\n",
       "</style>\n",
       "<table border=\"1\" class=\"dataframe\">\n",
       "  <thead>\n",
       "    <tr style=\"text-align: right;\">\n",
       "      <th></th>\n",
       "      <th>Year</th>\n",
       "      <th>CSIRO Adjusted Sea Level</th>\n",
       "      <th>Lower Error Bound</th>\n",
       "      <th>Upper Error Bound</th>\n",
       "      <th>NOAA Adjusted Sea Level</th>\n",
       "    </tr>\n",
       "  </thead>\n",
       "  <tbody>\n",
       "    <tr>\n",
       "      <th>0</th>\n",
       "      <td>1880</td>\n",
       "      <td>0.000000</td>\n",
       "      <td>-0.952756</td>\n",
       "      <td>0.952756</td>\n",
       "      <td>NaN</td>\n",
       "    </tr>\n",
       "    <tr>\n",
       "      <th>1</th>\n",
       "      <td>1881</td>\n",
       "      <td>0.220472</td>\n",
       "      <td>-0.732283</td>\n",
       "      <td>1.173228</td>\n",
       "      <td>NaN</td>\n",
       "    </tr>\n",
       "    <tr>\n",
       "      <th>2</th>\n",
       "      <td>1882</td>\n",
       "      <td>-0.440945</td>\n",
       "      <td>-1.346457</td>\n",
       "      <td>0.464567</td>\n",
       "      <td>NaN</td>\n",
       "    </tr>\n",
       "    <tr>\n",
       "      <th>3</th>\n",
       "      <td>1883</td>\n",
       "      <td>-0.232283</td>\n",
       "      <td>-1.129921</td>\n",
       "      <td>0.665354</td>\n",
       "      <td>NaN</td>\n",
       "    </tr>\n",
       "    <tr>\n",
       "      <th>4</th>\n",
       "      <td>1884</td>\n",
       "      <td>0.590551</td>\n",
       "      <td>-0.283465</td>\n",
       "      <td>1.464567</td>\n",
       "      <td>NaN</td>\n",
       "    </tr>\n",
       "  </tbody>\n",
       "</table>\n",
       "</div>"
      ],
      "text/plain": [
       "   Year  CSIRO Adjusted Sea Level  Lower Error Bound  Upper Error Bound  \\\n",
       "0  1880                  0.000000          -0.952756           0.952756   \n",
       "1  1881                  0.220472          -0.732283           1.173228   \n",
       "2  1882                 -0.440945          -1.346457           0.464567   \n",
       "3  1883                 -0.232283          -1.129921           0.665354   \n",
       "4  1884                  0.590551          -0.283465           1.464567   \n",
       "\n",
       "   NOAA Adjusted Sea Level  \n",
       "0                      NaN  \n",
       "1                      NaN  \n",
       "2                      NaN  \n",
       "3                      NaN  \n",
       "4                      NaN  "
      ]
     },
     "execution_count": 4,
     "metadata": {},
     "output_type": "execute_result"
    }
   ],
   "source": [
    "df.head(5)"
   ]
  },
  {
   "cell_type": "code",
   "execution_count": null,
   "id": "3fc4813e",
   "metadata": {},
   "outputs": [],
   "source": []
  },
  {
   "cell_type": "code",
   "execution_count": 5,
   "id": "11b1288f",
   "metadata": {},
   "outputs": [
    {
     "name": "stdout",
     "output_type": "stream",
     "text": [
      "all good\n",
      "all good\n",
      "all good\n",
      "all good\n",
      "all good\n"
     ]
    }
   ],
   "source": [
    "# look for mixed data types\n",
    "\n",
    "for col in df.columns.tolist():\n",
    "  weird = (df[[col]].applymap(type) != df[[col]].iloc[0].apply(type)).any(axis = 1)\n",
    "  if len (df[weird]) > 0:\n",
    "    print (col)\n",
    "  else:\n",
    "    print('all good')"
   ]
  },
  {
   "cell_type": "code",
   "execution_count": 6,
   "id": "170f3f8b",
   "metadata": {
    "scrolled": true
   },
   "outputs": [
    {
     "data": {
      "text/plain": [
       "Year                          0\n",
       "CSIRO Adjusted Sea Level      0\n",
       "Lower Error Bound             0\n",
       "Upper Error Bound             0\n",
       "NOAA Adjusted Sea Level     113\n",
       "dtype: int64"
      ]
     },
     "execution_count": 6,
     "metadata": {},
     "output_type": "execute_result"
    }
   ],
   "source": [
    "# check for missing values\n",
    "\n",
    "df.isnull().sum()"
   ]
  },
  {
   "cell_type": "markdown",
   "id": "efcaead7",
   "metadata": {},
   "source": [
    "NOAA Adjusted Sea Level is basically all NaN, and it is not used in the assignment. Lets remove it."
   ]
  },
  {
   "cell_type": "code",
   "execution_count": 7,
   "id": "a102512c",
   "metadata": {},
   "outputs": [],
   "source": [
    "del df['NOAA Adjusted Sea Level']"
   ]
  },
  {
   "cell_type": "code",
   "execution_count": 8,
   "id": "b0d869d9",
   "metadata": {},
   "outputs": [
    {
     "name": "stdout",
     "output_type": "stream",
     "text": [
      "Year\n",
      "CSIRO Adjusted Sea Level\n",
      "Lower Error Bound\n",
      "Upper Error Bound\n"
     ]
    }
   ],
   "source": [
    "for col in df:\n",
    "    print (col)"
   ]
  },
  {
   "cell_type": "markdown",
   "id": "9f1b52e5",
   "metadata": {},
   "source": [
    "nice"
   ]
  },
  {
   "cell_type": "code",
   "execution_count": 9,
   "id": "63089edd",
   "metadata": {},
   "outputs": [],
   "source": [
    "# check for dups\n",
    "\n",
    "df_dups = df[df.duplicated()]"
   ]
  },
  {
   "cell_type": "code",
   "execution_count": 10,
   "id": "dfc232fd",
   "metadata": {},
   "outputs": [
    {
     "data": {
      "text/html": [
       "<div>\n",
       "<style scoped>\n",
       "    .dataframe tbody tr th:only-of-type {\n",
       "        vertical-align: middle;\n",
       "    }\n",
       "\n",
       "    .dataframe tbody tr th {\n",
       "        vertical-align: top;\n",
       "    }\n",
       "\n",
       "    .dataframe thead th {\n",
       "        text-align: right;\n",
       "    }\n",
       "</style>\n",
       "<table border=\"1\" class=\"dataframe\">\n",
       "  <thead>\n",
       "    <tr style=\"text-align: right;\">\n",
       "      <th></th>\n",
       "      <th>Year</th>\n",
       "      <th>CSIRO Adjusted Sea Level</th>\n",
       "      <th>Lower Error Bound</th>\n",
       "      <th>Upper Error Bound</th>\n",
       "    </tr>\n",
       "  </thead>\n",
       "  <tbody>\n",
       "  </tbody>\n",
       "</table>\n",
       "</div>"
      ],
      "text/plain": [
       "Empty DataFrame\n",
       "Columns: [Year, CSIRO Adjusted Sea Level, Lower Error Bound, Upper Error Bound]\n",
       "Index: []"
      ]
     },
     "execution_count": 10,
     "metadata": {},
     "output_type": "execute_result"
    }
   ],
   "source": [
    "df_dups"
   ]
  },
  {
   "cell_type": "markdown",
   "id": "6d6d2dc8",
   "metadata": {},
   "source": [
    "## hell ya lookin good. On to the assignment"
   ]
  },
  {
   "cell_type": "markdown",
   "id": "34caca31",
   "metadata": {},
   "source": [
    "# TASK 1:\n",
    "### import the data"
   ]
  },
  {
   "cell_type": "markdown",
   "id": "cffd7f54",
   "metadata": {},
   "source": [
    "Already done! NEXT"
   ]
  },
  {
   "cell_type": "markdown",
   "id": "972cad2d",
   "metadata": {},
   "source": [
    "# TASK 2: \n",
    "### Use matplotlib to create a scatter plot using the Year column as the x-axis and the CSIRO Adjusted Sea Level column as the y-axis."
   ]
  },
  {
   "cell_type": "code",
   "execution_count": 11,
   "id": "d0a2586f",
   "metadata": {},
   "outputs": [
    {
     "data": {
      "text/plain": [
       "<matplotlib.collections.PathCollection at 0x7f8e4b26d370>"
      ]
     },
     "execution_count": 11,
     "metadata": {},
     "output_type": "execute_result"
    },
    {
     "data": {
      "image/png": "[encoded data removed]",
      "text/plain": [
       "<Figure size 432x288 with 1 Axes>"
      ]
     },
     "metadata": {
      "needs_background": "light"
     },
     "output_type": "display_data"
    }
   ],
   "source": [
    "plt.scatter(df['Year'], df['CSIRO Adjusted Sea Level'])"
   ]
  },
  {
   "cell_type": "markdown",
   "id": "e460bbbe",
   "metadata": {},
   "source": [
    "Nice. I mean, scary. Next!"
   ]
  },
  {
   "cell_type": "markdown",
   "id": "c8abe391",
   "metadata": {},
   "source": [
    "# TASK 3:\n",
    "### Use the linregress function from scipy.stats to get the slope and y-intercept of the line of best fit. Plot the line of best fit over the top of the scatter plot. Make the line go through the year 2050 to predict the sea level rise in 2050."
   ]
  },
  {
   "cell_type": "code",
   "execution_count": 12,
   "id": "c56bc720",
   "metadata": {},
   "outputs": [],
   "source": [
    "#save variables with new names for easier handling in scipy\n",
    "\n",
    "x = df['Year']\n",
    "y = df['CSIRO Adjusted Sea Level']"
   ]
  },
  {
   "cell_type": "code",
   "execution_count": 13,
   "id": "7b1f2536",
   "metadata": {},
   "outputs": [],
   "source": [
    "# new date range for predictive line\n",
    "\n",
    "future_predict = np.arange(1880, 2051, 1)"
   ]
  },
  {
   "cell_type": "code",
   "execution_count": 97,
   "id": "3865c8fe",
   "metadata": {},
   "outputs": [],
   "source": [
    "# calculate regression\n",
    "\n",
    "res = linregress(x, y)"
   ]
  },
  {
   "cell_type": "code",
   "execution_count": 98,
   "id": "1a873e32",
   "metadata": {},
   "outputs": [
    {
     "data": {
      "text/plain": [
       "0.0630445840121348"
      ]
     },
     "execution_count": 98,
     "metadata": {},
     "output_type": "execute_result"
    }
   ],
   "source": [
    "# check slope\n",
    "\n",
    "res.slope"
   ]
  },
  {
   "cell_type": "code",
   "execution_count": 118,
   "id": "20c23e00",
   "metadata": {},
   "outputs": [
    {
     "data": {
      "image/png": "[encoded data removed]",
      "text/plain": [
       "<Figure size 432x288 with 1 Axes>"
      ]
     },
     "metadata": {
      "needs_background": "light"
     },
     "output_type": "display_data"
    }
   ],
   "source": [
    "# plot the line and data\n",
    "\n",
    "plt.scatter(x, y, label = 'sea level data')\n",
    "plt.plot(future_predict, res.intercept + res.slope*future_predict, 'r', label='fitted line')\n",
    "plt.legend()\n",
    "plt.show()"
   ]
  },
  {
   "cell_type": "markdown",
   "id": "937ccc4b",
   "metadata": {},
   "source": [
    "## boom. \n",
    "next"
   ]
  },
  {
   "cell_type": "markdown",
   "id": "58cd8a5b",
   "metadata": {},
   "source": [
    "# TASK 4: Plot a new line of best fit just using the data from year 2000 through the most recent year in the dataset. \n",
    "### Make the line also go through the year 2050 to predict the sea level rise in 2050 if the rate of rise continues as it has since the year 2000."
   ]
  },
  {
   "cell_type": "code",
   "execution_count": 101,
   "id": "88c638fa",
   "metadata": {},
   "outputs": [],
   "source": [
    "# new df with desired years only\n",
    "\n",
    "df2 = df[df['Year'].between(2000, 2013)]"
   ]
  },
  {
   "cell_type": "code",
   "execution_count": 102,
   "id": "0d89aa85",
   "metadata": {},
   "outputs": [],
   "source": [
    "# new x var\n",
    "\n",
    "x2 = df2['Year']"
   ]
  },
  {
   "cell_type": "code",
   "execution_count": 103,
   "id": "f005544d",
   "metadata": {},
   "outputs": [],
   "source": [
    "#new y var\n",
    "\n",
    "y2 = df2['CSIRO Adjusted Sea Level']"
   ]
  },
  {
   "cell_type": "code",
   "execution_count": 104,
   "id": "9940e2ac",
   "metadata": {},
   "outputs": [],
   "source": [
    "#regression for new data\n",
    "\n",
    "res2 = linregress(x2,y2)"
   ]
  },
  {
   "cell_type": "code",
   "execution_count": 110,
   "id": "2ae9f2db",
   "metadata": {},
   "outputs": [
    {
     "data": {
      "text/plain": [
       "0.1664272733318682"
      ]
     },
     "execution_count": 110,
     "metadata": {},
     "output_type": "execute_result"
    }
   ],
   "source": [
    "# check that slope is different\n",
    "res2.slope"
   ]
  },
  {
   "cell_type": "markdown",
   "id": "fdcde373",
   "metadata": {},
   "source": [
    "### sweet."
   ]
  },
  {
   "cell_type": "code",
   "execution_count": 111,
   "id": "eb5ccdd8",
   "metadata": {},
   "outputs": [],
   "source": [
    "# new ticks for graph\n",
    "\n",
    "future_predict2 = np.arange(2000, 2051, 1)"
   ]
  },
  {
   "cell_type": "code",
   "execution_count": 107,
   "id": "60f0d31d",
   "metadata": {},
   "outputs": [
    {
     "data": {
      "image/png": "[encoded data removed]",
      "text/plain": [
       "<Figure size 432x288 with 1 Axes>"
      ]
     },
     "metadata": {
      "needs_background": "light"
     },
     "output_type": "display_data"
    }
   ],
   "source": [
    "plt.scatter(x2, y2, label = 'sea level data')\n",
    "plt.plot(future_predict2, res2.intercept + res2.slope*future_predict2, 'r', label='fitted line')\n",
    "plt.legend()\n",
    "plt.show()"
   ]
  },
  {
   "cell_type": "markdown",
   "id": "82549744",
   "metadata": {},
   "source": [
    "# niiice. Lets bring the two charts together, shall we?"
   ]
  },
  {
   "cell_type": "code",
   "execution_count": 117,
   "id": "01406ea4",
   "metadata": {},
   "outputs": [
    {
     "data": {
      "image/png": "[encoded data removed]",
      "text/plain": [
       "<Figure size 432x288 with 1 Axes>"
      ]
     },
     "metadata": {
      "needs_background": "light"
     },
     "output_type": "display_data"
    }
   ],
   "source": [
    "plt.scatter(x, y, label = 'sea level data')\n",
    "plt.plot(future_predict, res.intercept + res.slope*future_predict, 'r', label='all years')\n",
    "plt.plot(future_predict2, res2.intercept + res2.slope*future_predict2, 'g', label='2000-2013')\n",
    "plt.legend()\n",
    "plt.show()"
   ]
  },
  {
   "cell_type": "markdown",
   "id": "2273d2c1",
   "metadata": {},
   "source": [
    "# and that does it for the freecodecamp.org excercises. Good times!"
   ]
  }
 ],
 "metadata": {
  "kernelspec": {
   "display_name": "Python 3 (ipykernel)",
   "language": "python",
   "name": "python3"
  },
  "language_info": {
   "codemirror_mode": {
    "name": "ipython",
    "version": 3
   },
   "file_extension": ".py",
   "mimetype": "text/x-python",
   "name": "python",
   "nbconvert_exporter": "python",
   "pygments_lexer": "ipython3",
   "version": "3.9.12"
  }
 },
 "nbformat": 4,
 "nbformat_minor": 5
}
